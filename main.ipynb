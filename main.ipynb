{
  "cells": [
    {
      "cell_type": "markdown",
      "metadata": {
        "id": "view-in-github",
        "colab_type": "text"
      },
      "source": [
        "<a href=\"https://colab.research.google.com/github/liangchingyun/A-Convolution-Module-For-Variable-Input-Channels/blob/main/main.ipynb\" target=\"_parent\"><img src=\"https://colab.research.google.com/assets/colab-badge.svg\" alt=\"Open In Colab\"/></a>"
      ]
    },
    {
      "cell_type": "code",
      "source": [
        "uname = \"liangchingyun\"\n",
        "!git config --global user.email '$joanne10021@gmail.com'\n",
        "!git config --global user.name '$liangchingyun'\n",
        "\n",
        "from getpass import getpass\n",
        "password = getpass('Password:')\n",
        "!git clone https://github.com/liangchingyun/A-Convolution-Module-For-Variable-Input-Channels.git\n",
        "%cd A-Convolution-Module-For-Variable-Input-Channels"
      ],
      "metadata": {
        "colab": {
          "base_uri": "https://localhost:8080/"
        },
        "id": "qR7mAkCyFIUK",
        "outputId": "8ce0540c-4024-4a4b-e781-6348a8160692"
      },
      "execution_count": 1,
      "outputs": [
        {
          "output_type": "stream",
          "name": "stdout",
          "text": [
            "Password:··········\n",
            "Cloning into 'A-Convolution-Module-For-Variable-Input-Channels'...\n",
            "remote: Enumerating objects: 64287, done.\u001b[K\n",
            "remote: Counting objects: 100% (15/15), done.\u001b[K\n",
            "remote: Compressing objects: 100% (13/13), done.\u001b[K\n",
            "remote: Total 64287 (delta 6), reused 5 (delta 1), pack-reused 64272\u001b[K\n",
            "Receiving objects: 100% (64287/64287), 1.35 GiB | 16.50 MiB/s, done.\n",
            "Resolving deltas: 100% (9/9), done.\n",
            "Updating files: 100% (64229/64229), done.\n",
            "/content/A-Convolution-Module-For-Variable-Input-Channels\n"
          ]
        }
      ]
    },
    {
      "cell_type": "code",
      "source": [
        "# create a file, then add it to stage\n",
        "#!git add hello.txt\n",
        "!git commit -m 'test'  # commit in Colab\n",
        "!git push origin main        # push to github"
      ],
      "metadata": {
        "id": "88gX0ceCGKjD",
        "outputId": "0b9f3d5c-60e4-4fb8-8787-6bbee0ec0ded",
        "colab": {
          "base_uri": "https://localhost:8080/"
        }
      },
      "execution_count": 15,
      "outputs": [
        {
          "output_type": "stream",
          "name": "stdout",
          "text": [
            "On branch main\n",
            "Your branch is up to date with 'origin/main'.\n",
            "\n",
            "nothing to commit, working tree clean\n",
            "fatal: could not read Username for 'https://github.com': No such device or address\n"
          ]
        }
      ]
    },
    {
      "cell_type": "code",
      "source": [
        "!git branch"
      ],
      "metadata": {
        "id": "kc4e_NYSIdBL",
        "outputId": "20e37d7d-bda3-4ab2-86a3-05fbf5aaecb4",
        "colab": {
          "base_uri": "https://localhost:8080/"
        }
      },
      "execution_count": 14,
      "outputs": [
        {
          "output_type": "stream",
          "name": "stdout",
          "text": [
            "* \u001b[32mmain\u001b[m\n"
          ]
        }
      ]
    },
    {
      "cell_type": "code",
      "execution_count": 3,
      "metadata": {
        "id": "hnvhtd-v6u3n"
      },
      "outputs": [],
      "source": [
        "import os\n",
        "#import matplotlib as plt"
      ]
    }
  ],
  "metadata": {
    "language_info": {
      "name": "python"
    },
    "colab": {
      "provenance": [],
      "include_colab_link": true
    },
    "kernelspec": {
      "name": "python3",
      "display_name": "Python 3"
    }
  },
  "nbformat": 4,
  "nbformat_minor": 0
}